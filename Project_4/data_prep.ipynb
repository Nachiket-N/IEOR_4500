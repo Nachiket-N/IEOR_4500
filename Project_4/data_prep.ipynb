{
 "cells": [
  {
   "cell_type": "code",
   "execution_count": 81,
   "metadata": {},
   "outputs": [],
   "source": [
    "import pandas as pd\n",
    "import numpy as np"
   ]
  },
  {
   "cell_type": "code",
   "execution_count": 82,
   "metadata": {},
   "outputs": [],
   "source": [
    "stocks = [\"ABR\", \"AMZN\", \"GS\", \"NFLX\", \"NIO\", \"NVDA\", \"TSLA\", \"UBS\"]"
   ]
  },
  {
   "cell_type": "code",
   "execution_count": 160,
   "metadata": {},
   "outputs": [
    {
     "name": "stdout",
     "output_type": "stream",
     "text": [
      "ABR\n"
     ]
    },
    {
     "name": "stderr",
     "output_type": "stream",
     "text": [
      "/var/folders/nw/l6tp73js6gs1p4xxsykgpr8w0000gn/T/ipykernel_40277/2076858548.py:7: DtypeWarning: Columns (1,2,3,4,5,6,7,10,11,12,13,14,15,16,19,20,21,22,23,24,25) have mixed types. Specify dtype option on import or set low_memory=False.\n",
      "  df = pd.read_csv(f\"./dataforh4/{stock}.csv\")\n"
     ]
    },
    {
     "name": "stdout",
     "output_type": "stream",
     "text": [
      "AMZN\n"
     ]
    },
    {
     "name": "stderr",
     "output_type": "stream",
     "text": [
      "/var/folders/nw/l6tp73js6gs1p4xxsykgpr8w0000gn/T/ipykernel_40277/2076858548.py:7: DtypeWarning: Columns (0,1,2,3,4,5,6,7,10,11,12,13,14,15,16,19,20,21,22,23,24,25) have mixed types. Specify dtype option on import or set low_memory=False.\n",
      "  df = pd.read_csv(f\"./dataforh4/{stock}.csv\")\n"
     ]
    },
    {
     "name": "stdout",
     "output_type": "stream",
     "text": [
      "GS\n"
     ]
    },
    {
     "name": "stderr",
     "output_type": "stream",
     "text": [
      "/var/folders/nw/l6tp73js6gs1p4xxsykgpr8w0000gn/T/ipykernel_40277/2076858548.py:7: DtypeWarning: Columns (0,1,2,3,4,5,6,7,10,11,12,13,14,15,16,19,20,21,22,23,24,25) have mixed types. Specify dtype option on import or set low_memory=False.\n",
      "  df = pd.read_csv(f\"./dataforh4/{stock}.csv\")\n"
     ]
    },
    {
     "name": "stdout",
     "output_type": "stream",
     "text": [
      "NFLX\n"
     ]
    },
    {
     "name": "stderr",
     "output_type": "stream",
     "text": [
      "/var/folders/nw/l6tp73js6gs1p4xxsykgpr8w0000gn/T/ipykernel_40277/2076858548.py:7: DtypeWarning: Columns (0,1,2,3,4,5,6,7,10,11,12,13,14,15,16,19,20,21,22,23,24,25) have mixed types. Specify dtype option on import or set low_memory=False.\n",
      "  df = pd.read_csv(f\"./dataforh4/{stock}.csv\")\n"
     ]
    },
    {
     "name": "stdout",
     "output_type": "stream",
     "text": [
      "NIO\n"
     ]
    },
    {
     "name": "stderr",
     "output_type": "stream",
     "text": [
      "/var/folders/nw/l6tp73js6gs1p4xxsykgpr8w0000gn/T/ipykernel_40277/2076858548.py:7: DtypeWarning: Columns (0,1,2,3,4,5,6,7,10,11,12,13,14,15,16,19,20,21,22,23,24,25) have mixed types. Specify dtype option on import or set low_memory=False.\n",
      "  df = pd.read_csv(f\"./dataforh4/{stock}.csv\")\n"
     ]
    },
    {
     "name": "stdout",
     "output_type": "stream",
     "text": [
      "NVDA\n"
     ]
    },
    {
     "name": "stderr",
     "output_type": "stream",
     "text": [
      "/var/folders/nw/l6tp73js6gs1p4xxsykgpr8w0000gn/T/ipykernel_40277/2076858548.py:7: DtypeWarning: Columns (0,1,2,3,4,5,6,7,10,11,12,13,14,15,16,18,19,20,21,22,23,24,25) have mixed types. Specify dtype option on import or set low_memory=False.\n",
      "  df = pd.read_csv(f\"./dataforh4/{stock}.csv\")\n"
     ]
    },
    {
     "name": "stdout",
     "output_type": "stream",
     "text": [
      "TSLA\n"
     ]
    },
    {
     "name": "stderr",
     "output_type": "stream",
     "text": [
      "/var/folders/nw/l6tp73js6gs1p4xxsykgpr8w0000gn/T/ipykernel_40277/2076858548.py:7: DtypeWarning: Columns (0,1,2,3,4,5,6,7,10,11,12,13,14,15,16,19,20,21,22,23,24,25) have mixed types. Specify dtype option on import or set low_memory=False.\n",
      "  df = pd.read_csv(f\"./dataforh4/{stock}.csv\")\n"
     ]
    },
    {
     "name": "stdout",
     "output_type": "stream",
     "text": [
      "UBS\n"
     ]
    },
    {
     "name": "stderr",
     "output_type": "stream",
     "text": [
      "/var/folders/nw/l6tp73js6gs1p4xxsykgpr8w0000gn/T/ipykernel_40277/2076858548.py:7: DtypeWarning: Columns (0,1,2,3,4,5,6,7,10,11,12,13,14,15,16,19,20,21,22,23,24,25) have mixed types. Specify dtype option on import or set low_memory=False.\n",
      "  df = pd.read_csv(f\"./dataforh4/{stock}.csv\")\n"
     ]
    }
   ],
   "source": [
    "common_dates = None\n",
    "\n",
    "for stock in stocks:\n",
    "\n",
    "    print(stock)\n",
    "\n",
    "    df = pd.read_csv(f\"./dataforh4/{stock}.csv\")\n",
    "    \n",
    "    # Drop first two rows\n",
    "    df.drop(df.head(2).index, inplace=True)\n",
    "    \n",
    "    # Keep just the first 8 columns - concerned with Trade data\n",
    "    df = df.iloc[: , :8]\n",
    "\n",
    "    # Change the headers\n",
    "    new_head = df.iloc[0]\n",
    "    df = df[1:]\n",
    "    df.columns = new_head\n",
    "\n",
    "    # Delete rows where Dates is NaN\n",
    "    df = df[df['Dates'].notna()]\n",
    "\n",
    "    # Remove the 2 in top left\n",
    "    df.columns.name = None\n",
    "\n",
    "    df['Dates'] = pd.to_datetime(df['Dates'])\n",
    "\n",
    "    # Identify the first entry in the 12th hour for each day\n",
    "    first_entries_in_12th_hour_index = df[df['Dates'].dt.hour == 12].groupby(df['Dates'].dt.date)['Dates'].idxmin()\n",
    "\n",
    "    # Update the timestamp of the first entry in the 12th hour to 12:00\n",
    "    df.loc[first_entries_in_12th_hour_index, 'Dates'] = df.loc[first_entries_in_12th_hour_index, 'Dates'].dt.floor('H')\n",
    "\n",
    "    df.set_index('Dates', inplace=True)\n",
    "\n",
    "    mask = (\n",
    "        (df.index.hour == 9) & (df.index.minute == 30) |\n",
    "        ((df.index.hour == 12) & (df.index.minute == 00))\n",
    "    )\n",
    "    df = df[mask]\n",
    "\n",
    "    df = df[~df.index.duplicated(keep='first')]\n",
    "\n",
    "    if common_dates is None:\n",
    "        common_dates = df.index\n",
    "    else:\n",
    "        common_dates = common_dates.intersection(df.index)\n",
    "\n",
    "    df.to_csv(f\"./data_processed/{stock}.csv\")"
   ]
  },
  {
   "cell_type": "code",
   "execution_count": 158,
   "metadata": {},
   "outputs": [
    {
     "name": "stdout",
     "output_type": "stream",
     "text": [
      "ABR 136 136\n",
      "AMZN 132 132\n",
      "GS 133 133\n",
      "NFLX 136 136\n",
      "NIO 135 135\n",
      "NVDA 134 134\n",
      "TSLA 132 132\n",
      "UBS 136 136\n"
     ]
    }
   ],
   "source": [
    "for stock in stocks:\n",
    "\n",
    "    df = pd.read_csv(f\"./data_processed/{stock}.csv\")\n",
    "\n",
    "    df['Dates'] = pd.to_datetime(df['Dates'])\n",
    "    df.set_index('Dates', inplace=True)\n",
    "\n",
    "    print(stock, list(df.index.hour == 9).count(True), list(df.index.hour == 12).count(True))"
   ]
  },
  {
   "cell_type": "code",
   "execution_count": 165,
   "metadata": {},
   "outputs": [
    {
     "name": "stdout",
     "output_type": "stream",
     "text": [
      "111\n"
     ]
    }
   ],
   "source": [
    "print(len(list(common_dates[::2])))\n",
    "# print(common_dates[::2].date)"
   ]
  },
  {
   "cell_type": "code",
   "execution_count": 166,
   "metadata": {},
   "outputs": [],
   "source": [
    "returns_dict = {'Dates': (common_dates)[::2].date}"
   ]
  },
  {
   "cell_type": "code",
   "execution_count": 89,
   "metadata": {},
   "outputs": [
    {
     "data": {
      "text/plain": [
       "DatetimeIndex(['2021-02-01 09:30:00', '2021-02-02 09:30:00',\n",
       "               '2021-02-03 09:30:00', '2021-02-04 09:30:00',\n",
       "               '2021-02-05 09:30:00', '2021-02-05 12:00:00',\n",
       "               '2021-02-08 09:30:00', '2021-02-08 12:00:00',\n",
       "               '2021-02-09 09:30:00', '2021-02-09 12:00:00',\n",
       "               ...\n",
       "               '2021-07-07 09:30:00', '2021-07-07 12:00:00',\n",
       "               '2021-07-08 09:30:00', '2021-07-08 12:00:00',\n",
       "               '2021-07-09 09:30:00', '2021-07-09 12:00:00',\n",
       "               '2021-07-12 09:30:00', '2021-07-12 12:00:00',\n",
       "               '2021-07-13 09:30:00', '2021-07-13 12:00:00'],\n",
       "              dtype='datetime64[ns]', name='Dates', length=204, freq=None)"
      ]
     },
     "execution_count": 89,
     "metadata": {},
     "output_type": "execute_result"
    }
   ],
   "source": [
    "common_dates[::2]"
   ]
  },
  {
   "cell_type": "code",
   "execution_count": null,
   "metadata": {},
   "outputs": [],
   "source": []
  },
  {
   "cell_type": "code",
   "execution_count": 167,
   "metadata": {},
   "outputs": [
    {
     "name": "stdout",
     "output_type": "stream",
     "text": [
      "ABR\n",
      "111\n",
      "AMZN\n",
      "111\n",
      "GS\n",
      "111\n",
      "NFLX\n",
      "111\n",
      "NIO\n",
      "111\n",
      "NVDA\n",
      "111\n",
      "TSLA\n",
      "111\n",
      "UBS\n",
      "111\n"
     ]
    }
   ],
   "source": [
    "for stock in stocks:\n",
    "\n",
    "    print(stock)\n",
    "\n",
    "    df = pd.read_csv(f\"./data_processed/{stock}.csv\")\n",
    "\n",
    "    df['Dates'] = pd.to_datetime(df['Dates'])\n",
    "    \n",
    "    df = df[df['Dates'].isin(common_dates)]\n",
    "\n",
    "    returns_stock = (df['Close'][1::2].values - df['Close'][::2].values) / df['Close'][::2].values\n",
    "\n",
    "    returns_dict[stock] = returns_stock\n",
    "\n",
    "    print(len(returns_stock))\n",
    "    "
   ]
  },
  {
   "cell_type": "code",
   "execution_count": 168,
   "metadata": {},
   "outputs": [
    {
     "data": {
      "text/html": [
       "<div>\n",
       "<style scoped>\n",
       "    .dataframe tbody tr th:only-of-type {\n",
       "        vertical-align: middle;\n",
       "    }\n",
       "\n",
       "    .dataframe tbody tr th {\n",
       "        vertical-align: top;\n",
       "    }\n",
       "\n",
       "    .dataframe thead th {\n",
       "        text-align: right;\n",
       "    }\n",
       "</style>\n",
       "<table border=\"1\" class=\"dataframe\">\n",
       "  <thead>\n",
       "    <tr style=\"text-align: right;\">\n",
       "      <th></th>\n",
       "      <th>Dates</th>\n",
       "      <th>ABR</th>\n",
       "      <th>AMZN</th>\n",
       "      <th>GS</th>\n",
       "      <th>NFLX</th>\n",
       "      <th>NIO</th>\n",
       "      <th>NVDA</th>\n",
       "      <th>TSLA</th>\n",
       "      <th>UBS</th>\n",
       "    </tr>\n",
       "  </thead>\n",
       "  <tbody>\n",
       "    <tr>\n",
       "      <th>0</th>\n",
       "      <td>2021-02-01</td>\n",
       "      <td>-0.011845</td>\n",
       "      <td>0.015982</td>\n",
       "      <td>0.007047</td>\n",
       "      <td>0.008632</td>\n",
       "      <td>-0.047245</td>\n",
       "      <td>0.002927</td>\n",
       "      <td>0.016274</td>\n",
       "      <td>0.006194</td>\n",
       "    </tr>\n",
       "    <tr>\n",
       "      <th>1</th>\n",
       "      <td>2021-02-02</td>\n",
       "      <td>0.014195</td>\n",
       "      <td>-0.000326</td>\n",
       "      <td>0.017026</td>\n",
       "      <td>0.025070</td>\n",
       "      <td>-0.016053</td>\n",
       "      <td>0.002537</td>\n",
       "      <td>0.039364</td>\n",
       "      <td>0.006793</td>\n",
       "    </tr>\n",
       "    <tr>\n",
       "      <th>2</th>\n",
       "      <td>2021-02-03</td>\n",
       "      <td>0.001273</td>\n",
       "      <td>-0.006972</td>\n",
       "      <td>0.003241</td>\n",
       "      <td>-0.011761</td>\n",
       "      <td>0.043077</td>\n",
       "      <td>0.000468</td>\n",
       "      <td>-0.009874</td>\n",
       "      <td>0.002358</td>\n",
       "    </tr>\n",
       "    <tr>\n",
       "      <th>3</th>\n",
       "      <td>2021-02-04</td>\n",
       "      <td>0.034797</td>\n",
       "      <td>-0.001582</td>\n",
       "      <td>0.014105</td>\n",
       "      <td>-0.001935</td>\n",
       "      <td>-0.021403</td>\n",
       "      <td>-0.008533</td>\n",
       "      <td>-0.013258</td>\n",
       "      <td>0.005720</td>\n",
       "    </tr>\n",
       "    <tr>\n",
       "      <th>4</th>\n",
       "      <td>2021-02-05</td>\n",
       "      <td>-0.002571</td>\n",
       "      <td>0.004461</td>\n",
       "      <td>-0.005064</td>\n",
       "      <td>-0.003134</td>\n",
       "      <td>-0.020202</td>\n",
       "      <td>-0.005866</td>\n",
       "      <td>0.015920</td>\n",
       "      <td>-0.004330</td>\n",
       "    </tr>\n",
       "    <tr>\n",
       "      <th>...</th>\n",
       "      <td>...</td>\n",
       "      <td>...</td>\n",
       "      <td>...</td>\n",
       "      <td>...</td>\n",
       "      <td>...</td>\n",
       "      <td>...</td>\n",
       "      <td>...</td>\n",
       "      <td>...</td>\n",
       "      <td>...</td>\n",
       "    </tr>\n",
       "    <tr>\n",
       "      <th>106</th>\n",
       "      <td>2021-07-07</td>\n",
       "      <td>-0.000852</td>\n",
       "      <td>-0.004655</td>\n",
       "      <td>0.001377</td>\n",
       "      <td>-0.010433</td>\n",
       "      <td>-0.062784</td>\n",
       "      <td>-0.012048</td>\n",
       "      <td>-0.023799</td>\n",
       "      <td>-0.000901</td>\n",
       "    </tr>\n",
       "    <tr>\n",
       "      <th>107</th>\n",
       "      <td>2021-07-08</td>\n",
       "      <td>0.025225</td>\n",
       "      <td>0.004955</td>\n",
       "      <td>0.003137</td>\n",
       "      <td>0.000978</td>\n",
       "      <td>0.030331</td>\n",
       "      <td>0.010348</td>\n",
       "      <td>0.027443</td>\n",
       "      <td>0.002033</td>\n",
       "    </tr>\n",
       "    <tr>\n",
       "      <th>108</th>\n",
       "      <td>2021-07-09</td>\n",
       "      <td>0.020774</td>\n",
       "      <td>0.002678</td>\n",
       "      <td>0.011939</td>\n",
       "      <td>0.008598</td>\n",
       "      <td>-0.033952</td>\n",
       "      <td>-0.000439</td>\n",
       "      <td>-0.006081</td>\n",
       "      <td>0.006040</td>\n",
       "    </tr>\n",
       "    <tr>\n",
       "      <th>109</th>\n",
       "      <td>2021-07-12</td>\n",
       "      <td>0.002475</td>\n",
       "      <td>-0.011032</td>\n",
       "      <td>0.034291</td>\n",
       "      <td>-0.004737</td>\n",
       "      <td>-0.013590</td>\n",
       "      <td>0.005378</td>\n",
       "      <td>0.024046</td>\n",
       "      <td>0.015304</td>\n",
       "    </tr>\n",
       "    <tr>\n",
       "      <th>110</th>\n",
       "      <td>2021-07-13</td>\n",
       "      <td>-0.005221</td>\n",
       "      <td>0.011858</td>\n",
       "      <td>-0.017228</td>\n",
       "      <td>0.012682</td>\n",
       "      <td>-0.009715</td>\n",
       "      <td>-0.001334</td>\n",
       "      <td>-0.009857</td>\n",
       "      <td>-0.004626</td>\n",
       "    </tr>\n",
       "  </tbody>\n",
       "</table>\n",
       "<p>111 rows × 9 columns</p>\n",
       "</div>"
      ],
      "text/plain": [
       "          Dates       ABR      AMZN        GS      NFLX       NIO      NVDA  \\\n",
       "0    2021-02-01 -0.011845  0.015982  0.007047  0.008632 -0.047245  0.002927   \n",
       "1    2021-02-02  0.014195 -0.000326  0.017026  0.025070 -0.016053  0.002537   \n",
       "2    2021-02-03  0.001273 -0.006972  0.003241 -0.011761  0.043077  0.000468   \n",
       "3    2021-02-04  0.034797 -0.001582  0.014105 -0.001935 -0.021403 -0.008533   \n",
       "4    2021-02-05 -0.002571  0.004461 -0.005064 -0.003134 -0.020202 -0.005866   \n",
       "..          ...       ...       ...       ...       ...       ...       ...   \n",
       "106  2021-07-07 -0.000852 -0.004655  0.001377 -0.010433 -0.062784 -0.012048   \n",
       "107  2021-07-08  0.025225  0.004955  0.003137  0.000978  0.030331  0.010348   \n",
       "108  2021-07-09  0.020774  0.002678  0.011939  0.008598 -0.033952 -0.000439   \n",
       "109  2021-07-12  0.002475 -0.011032  0.034291 -0.004737 -0.013590  0.005378   \n",
       "110  2021-07-13 -0.005221  0.011858 -0.017228  0.012682 -0.009715 -0.001334   \n",
       "\n",
       "         TSLA       UBS  \n",
       "0    0.016274  0.006194  \n",
       "1    0.039364  0.006793  \n",
       "2   -0.009874  0.002358  \n",
       "3   -0.013258  0.005720  \n",
       "4    0.015920 -0.004330  \n",
       "..        ...       ...  \n",
       "106 -0.023799 -0.000901  \n",
       "107  0.027443  0.002033  \n",
       "108 -0.006081  0.006040  \n",
       "109  0.024046  0.015304  \n",
       "110 -0.009857 -0.004626  \n",
       "\n",
       "[111 rows x 9 columns]"
      ]
     },
     "execution_count": 168,
     "metadata": {},
     "output_type": "execute_result"
    }
   ],
   "source": [
    "returns = pd.DataFrame(returns_dict)\n",
    "returns"
   ]
  },
  {
   "cell_type": "code",
   "execution_count": 169,
   "metadata": {},
   "outputs": [],
   "source": [
    "returns.to_csv(\"./Returns.csv\", index=False)"
   ]
  }
 ],
 "metadata": {
  "kernelspec": {
   "display_name": "base",
   "language": "python",
   "name": "python3"
  },
  "language_info": {
   "codemirror_mode": {
    "name": "ipython",
    "version": 3
   },
   "file_extension": ".py",
   "mimetype": "text/x-python",
   "name": "python",
   "nbconvert_exporter": "python",
   "pygments_lexer": "ipython3",
   "version": "3.11.4"
  }
 },
 "nbformat": 4,
 "nbformat_minor": 2
}
