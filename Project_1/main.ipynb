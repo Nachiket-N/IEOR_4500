{
 "cells": [
  {
   "cell_type": "markdown",
   "metadata": {},
   "source": [
    "# Optimizing Trading Schedules Under Memory Based Liquidity Impact\n",
    "\n",
    "### In this project we make use of dynamic programming to create a trading schedule that maximizes total number of shares traded, under a model of liquidity impact with memory"
   ]
  },
  {
   "cell_type": "markdown",
   "metadata": {},
   "source": [
    "#### Suppose we have a total of N shares that we would like to trade over T time periods. To do so, we produce a schedule\n",
    "\n",
    "$$ (n_0, n_1, \\ldots, n_{T-1}) \\quad \\text{where each} \\quad n_i \\ge 0$$\n",
    "\n",
    "#### Each $n_i$ represents the quantity that we will attempt to trade at time $i = 0, 2, \\ldots, T-1$\n",
    "\n",
    "#### In reality the market will only allow us to trade a smaller quantity at each time period. We impose the following conditions:\n",
    "\n",
    "$$ \\sum_{i=0}^{T-2} n_i \\ \\le N \\quad \\text{and} \\quad n_{T-1} = N - \\text{quantity traded so far}$$\n",
    "\n",
    "####\n",
    "#### This plays out as follows. Assume that $\\alpha > 0$ (and very small) and $0 < \\pi < 1$ are given parameters. Then we run the following process:\n",
    "\n",
    "##### 1. Initialize $M = 0$.  Then for $i = 0, 2, \\ldots, T-1$ we do the following:\n",
    "##### 2. Compute: $$ M \\leftarrow \\lceil 0.1*M + 0.9*n_i \\rceil $$\n",
    "##### 3. At time $i \\le T-1$ we trade, $$ S_i \\ = \\ \\lceil(1 - \\alpha M^\\pi)n_i \\rceil \\ shares $$  \n",
    "##### 4. Note that: $$ n_{T-1} = N \\, - \\, \\sum_{i=0}^{T-2} n_i \\ $$"
   ]
  },
  {
   "cell_type": "markdown",
   "metadata": {},
   "source": [
    "### <span style='color:red'>Task 1</span>\n",
    "\n",
    "#### Code a dynamic programming algorithm that computes an optimal schedule of trades\n",
    "\n",
    "$$(n_0, n_1, \\ldots, n_{T-1})$$ \n",
    "\n",
    "#### The goal is to maximize the total number of traded shares: $ \\ \\displaystyle \\sum_{i=0}^{T-1}S_i \\ $\n",
    "\n",
    "#### Make sure that your code runs well for a range of values of $\\alpha$ and $\\pi$\n",
    "\n",
    "##### Compute the optimal schedule when $\\alpha = 0.001$, $\\pi = 0.5$, $N = 100000$ and $T = 10$.   Denote this schedule by $(S_0, S_1, \\ldots, S_9)$."
   ]
  },
  {
   "cell_type": "code",
   "execution_count": 1,
   "metadata": {},
   "outputs": [],
   "source": [
    "import numpy as np\n",
    "import pandas as pd\n",
    "from tqdm.notebook import tqdm"
   ]
  },
  {
   "cell_type": "code",
   "execution_count": 2,
   "metadata": {},
   "outputs": [],
   "source": [
    "# Outputs the optimal trading schedule for given alpha, T (time periods) and pi\n",
    "def trade_schedule(alpha: float, T: int, N: int, pi: float) -> list:\n",
    "    '''\n",
    "        alpha --> market memory impact factor 1\n",
    "        pi    --> market memory impact factor 2\n",
    "        T     --> total number of time periods\n",
    "        N     --> total number of shares you have\n",
    "    '''\n",
    "    \n",
    "    '''\n",
    "        Computes optimal trade schedule for the given market impact model\n",
    "        M(t) = ceil[ 0.1*M(t-1) + 0.9*N(t) ]\n",
    "        S(t) = ceil[ (1 - alpha*M(t)^pi) * N(t) ]\n",
    "    '''\n",
    "\n",
    "    N = int(N)\n",
    "\n",
    "    mem_S = np.zeros((T+1, N+1, N+1)).astype(int) # Memoization array to store the shares actually traded\n",
    "    mem_N = np.zeros((T+1, N+1, N+1)).astype(int) # Memoization array to store the index of the shares you try to sell for which you get the maximum shares sold\n",
    "\n",
    "    shares = np.arange(N+1).astype(int) # Creates array [0, 1, 2, ... N] of all possible values that ni and M can take\n",
    "    reversed_shares = N - shares # Reversed the shares array\n",
    "    reshaped_shares = shares.reshape(-1, 1) # Converts shares array to a column vector\n",
    "\n",
    "    impact = 1 - (alpha * (shares ** pi)) # Pre-computes the corresponding impact for all possible values of M\n",
    "\n",
    "    \n",
    "    for t in range(T-1, -1, -1):\n",
    "        # print(\"t =\", T-t)\n",
    "        for n in range(0, N+1, 1):\n",
    "\n",
    "            # temp_m is a Nxn array which generates all possible values of M for current time step for all possible shares we might try to sell - 0 to n\n",
    "            # used to get all possible impacts in the next step for temp_sell\n",
    "            temp_m = np.ceil( 0.1*reshaped_shares + 0.9*shares[ : n+1] ).astype(int)\n",
    "            \n",
    "            temp_m[temp_m > N] = N # Needed... because ceil might cause a value of m > N .. which shouldn't be allowed\n",
    "\n",
    "            # temp_sell generates all possible shares we could be allowed to sell for every number of shares we try to sell for every possible value M previously had\n",
    "            temp_sell = np.ceil( impact[temp_m] * shares[ : n+1 ] ) + mem_S[t+1, temp_m, reversed_shares[N-n : ]]\n",
    "\n",
    "            # Get the indices of max shares it's possible to sell for all values of M\n",
    "            idx_max = np.argmax( temp_sell, axis=1 )\n",
    "\n",
    "            # Stores all possible max shares sold at current time period for all shares attempted to sell - n \n",
    "            mem_S[t, : , n] = temp_sell[shares, idx_max]\n",
    "\n",
    "            # Stores the index corresponding to max shares sold at time period t for shares n, which will be used later to get the trading schedule\n",
    "            mem_N[t, : , n] = idx_max\n",
    "\n",
    "            # Reset\n",
    "            temp_m = temp_sell = idx_max = None\n",
    "\n",
    "    mem_S = shares = reversed_shares = reshaped_shares = impact = None\n",
    "\n",
    "    schedule = list()\n",
    "    m = 0\n",
    "    remaining = N\n",
    "\n",
    "    # Getting the optimal trading schedule back from mem_N\n",
    "    for t in range(T):\n",
    "        nt = mem_N[t, m, remaining]\n",
    "        schedule.append(nt)\n",
    "\n",
    "        m = np.ceil( 0.1*m + 0.9*nt ).astype(int)\n",
    "        remaining -= nt\n",
    "        \n",
    "    return schedule"
   ]
  },
  {
   "cell_type": "code",
   "execution_count": 3,
   "metadata": {},
   "outputs": [
    {
     "data": {
      "application/vnd.jupyter.widget-view+json": {
       "model_id": "c8f9ca4449d14712b2b95901192dc3a4",
       "version_major": 2,
       "version_minor": 0
      },
      "text/plain": [
       "  0%|          | 0/5 [00:00<?, ?it/s]"
      ]
     },
     "metadata": {},
     "output_type": "display_data"
    },
    {
     "name": "stdout",
     "output_type": "stream",
     "text": [
      "Optimal trade schedule for:  {'alpha': 0.01, 'T': 4, 'N': 1000, 'pi': 0.3}\n",
      "[122, 281, 277, 320]\n",
      "Optimal trade schedule for:  {'alpha': 0.01, 'T': 3, 'N': 1000, 'pi': 0.3}\n",
      "[239, 349, 412]\n",
      "Optimal trade schedule for:  {'alpha': 0.1, 'T': 4, 'N': 500, 'pi': 0.2}\n",
      "[101, 126, 135, 138]\n",
      "Optimal trade schedule for:  {'alpha': 1e-05, 'T': 4, 'N': 500, 'pi': 0.2}\n",
      "[0, 0, 0, 500]\n",
      "Optimal trade schedule for:  {'alpha': 1e-05, 'T': 4, 'N': 500, 'pi': 0.5}\n",
      "[0, 0, 0, 500]\n"
     ]
    }
   ],
   "source": [
    "test_inputs = [\n",
    "    {\"alpha\": 1e-2, \"T\": 4, \"N\": 1000, \"pi\": 0.3},\n",
    "    {\"alpha\": 1e-2, \"T\": 3, \"N\": 1000, \"pi\": 0.3},\n",
    "    {\"alpha\": 1e-1, \"T\": 4, \"N\": 500, \"pi\": 0.2},\n",
    "    {\"alpha\": 1e-5, \"T\": 4, \"N\": 500, \"pi\": 0.2},\n",
    "    {\"alpha\": 1e-5, \"T\": 4, \"N\": 500, \"pi\": 0.5},\n",
    "]\n",
    "\n",
    "tqdm_test_inputs = tqdm(test_inputs, leave=True)\n",
    "\n",
    "for input in tqdm_test_inputs:\n",
    "    print(\"Optimal trade schedule for: \", input)\n",
    "    print( trade_schedule(**input) )"
   ]
  },
  {
   "cell_type": "code",
   "execution_count": 4,
   "metadata": {},
   "outputs": [],
   "source": [
    "# If the number of shares held - N - is too large, we can divide N by a power of 10, get a new N and find the optimal trade schedule for this new N\n",
    "# We make a small adjustment to the alpha to approximate the new impact\n",
    "# Finally, we multiply the trade schedule with the factor (power of 10)\n",
    "def approx_trade_schedule(alpha: float, T: int, N: int, pi: float, approx_factor: int) -> list:\n",
    "    new_alpha = alpha * (10**(approx_factor*pi))\n",
    "    new_N = int(N / (10**approx_factor))\n",
    "    \n",
    "    schedule = trade_schedule(new_alpha, T, new_N, pi)\n",
    "    schedule = [ ni*(10**approx_factor)  for ni in schedule]\n",
    "\n",
    "    return schedule"
   ]
  },
  {
   "cell_type": "code",
   "execution_count": 5,
   "metadata": {},
   "outputs": [
    {
     "data": {
      "application/vnd.jupyter.widget-view+json": {
       "model_id": "5e8ce4c7f78b4af9b08bd5ec3a310210",
       "version_major": 2,
       "version_minor": 0
      },
      "text/plain": [
       "  0%|          | 0/5 [00:00<?, ?it/s]"
      ]
     },
     "metadata": {},
     "output_type": "display_data"
    },
    {
     "name": "stdout",
     "output_type": "stream",
     "text": [
      "Optimal trade schedule for:  {'alpha': 0.01, 'T': 4, 'N': 1000, 'pi': 0.3, 'approx_factor': 1}\n",
      "[120, 200, 340, 340]\n",
      "Optimal trade schedule for:  {'alpha': 0.01, 'T': 3, 'N': 1000, 'pi': 0.3, 'approx_factor': 1}\n",
      "[190, 340, 470]\n",
      "Optimal trade schedule for:  {'alpha': 0.1, 'T': 3, 'N': 2000, 'pi': 0.1, 'approx_factor': 1}\n",
      "[220, 870, 910]\n",
      "Optimal trade schedule for:  {'alpha': 1e-05, 'T': 4, 'N': 500, 'pi': 0.5, 'approx_factor': 1}\n",
      "[0, 0, 0, 500]\n",
      "Optimal trade schedule for:  {'alpha': 0.01, 'T': 4, 'N': 500, 'pi': 0.5, 'approx_factor': 1}\n",
      "[40, 160, 90, 210]\n"
     ]
    }
   ],
   "source": [
    "test_inputs = [\n",
    "    {\"alpha\": 1e-2, \"T\": 4, \"N\": 1000, \"pi\": 0.3, \"approx_factor\": 1},\n",
    "    {\"alpha\": 1e-2, \"T\": 3, \"N\": 1000, \"pi\": 0.3, \"approx_factor\": 1},\n",
    "    {\"alpha\": 1e-1, \"T\": 3, \"N\": 2000, \"pi\": 0.1, \"approx_factor\": 1},\n",
    "    {\"alpha\": 1e-5, \"T\": 4, \"N\": 500, \"pi\": 0.5, \"approx_factor\": 1},\n",
    "    {\"alpha\": 1e-2, \"T\": 4, \"N\": 500, \"pi\": 0.5, \"approx_factor\": 1},\n",
    "]\n",
    "\n",
    "tqdm_test_inputs = tqdm(test_inputs, leave=True)\n",
    "\n",
    "for input in tqdm_test_inputs:\n",
    "    print(\"Optimal trade schedule for: \", input)\n",
    "    print( approx_trade_schedule(**input) )"
   ]
  },
  {
   "cell_type": "markdown",
   "metadata": {},
   "source": [
    "### <span style='color:red'>Task 2</span>\n",
    "\n",
    "#### Test the effectiveness of this computed schedule using the first 2 hours of each day in the TSLA data\n",
    "\n",
    "To do so, we divide the first 2 hours of each day into 12 separate intervals of ten minutes each.\n",
    "Each interval is evaluated as follows.  Suppose that the traded volume in that interval is given by the numbers $(V_0, V_1, \\ldots, V_9)$. \n",
    "Then the interval score we assign to our schedule is given by\n",
    "$$ \\sum_{i = 0}^9 \\min\\{ S_i, V_i/100 \\}.$$\n",
    "Effectively, this scheme allows us to trade up to a volume of 1% of what the market actually traded."
   ]
  },
  {
   "cell_type": "code",
   "execution_count": 6,
   "metadata": {},
   "outputs": [],
   "source": [
    "TRADE = pd.read_csv(\"./TSLA_TRADE.csv\")\n",
    "\n",
    "#Convert to datetime\n",
    "TRADE['Dates'] = pd.to_datetime(TRADE['Dates'])\n",
    "TRADE.set_index('Dates', inplace=True)\n",
    "\n",
    "#Select only half the data and only volume\n",
    "TRADE = TRADE[\"Volume\"][:len(TRADE)//2]\n",
    "\n",
    "# Select only first two hours\n",
    "mask = (TRADE.index.hour >= 9) & ((TRADE.index.hour < 11) | ((TRADE.index.hour == 11) & (TRADE.index.minute <= 30)))\n",
    "TRADE = TRADE[mask]\n",
    "\n",
    "## Divide volume by 100 for Total score\n",
    "# TRADE = TRADE/100\n",
    "\n",
    "TRADE.to_csv(\"./TSLA_first_two_hours.csv\")"
   ]
  },
  {
   "cell_type": "code",
   "execution_count": 7,
   "metadata": {},
   "outputs": [],
   "source": [
    "df = pd.read_csv('./TSLA_first_two_hours.csv')\n",
    "\n",
    "df['Dates'] = pd.to_datetime(df['Dates'])\n",
    "\n",
    "df = df.set_index('Dates').sort_index()"
   ]
  },
  {
   "cell_type": "code",
   "execution_count": 8,
   "metadata": {},
   "outputs": [
    {
     "data": {
      "application/vnd.jupyter.widget-view+json": {
       "model_id": "cf11daba7c1a4fd481ad819c343b0a99",
       "version_major": 2,
       "version_minor": 0
      },
      "text/plain": [
       "  0%|          | 0/95 [00:00<?, ?it/s]"
      ]
     },
     "metadata": {},
     "output_type": "display_data"
    }
   ],
   "source": [
    "x = df.index.min()\n",
    "ub = df.index.max()\n",
    "day = pd.DateOffset(days=1)\n",
    "\n",
    "res = list()\n",
    "\n",
    "alpha = 1e-3\n",
    "pi = 0.5\n",
    "\n",
    "with tqdm(total=(ub-x).days) as pbar:\n",
    "    while x < ub:\n",
    "        mask = (df.index >= x) & (df.index < x + day)\n",
    "        slice = df[mask].iloc[1:]\n",
    "        \n",
    "        if len(slice) == 120:\n",
    "\n",
    "            for i in range(0, 12):\n",
    "\n",
    "                interval = slice[ i*10 : (i+1)*10 ]\n",
    "                total_interval_vol = interval['Volume'].sum()\n",
    "                \n",
    "                schedule = approx_trade_schedule(alpha, 10, total_interval_vol, pi, 4)\n",
    "                \n",
    "                S = []\n",
    "                m = 0\n",
    "                sum = 0\n",
    "                for t in range(10):\n",
    "                    m = 0.1*m + 0.9*schedule[t]\n",
    "                    S.append( (1 - alpha * (m**pi)) * schedule[t] )\n",
    "                \n",
    "                    interval_score = min( S[t] , interval.iloc[t]['Volume']//100 )\n",
    "                    sum += interval_score\n",
    "                    # print(sum)\n",
    "\n",
    "                res.append(sum)\n",
    "\n",
    "        mask = slice = None\n",
    "        x += day\n",
    "        pbar.update(1)\n"
   ]
  },
  {
   "cell_type": "markdown",
   "metadata": {},
   "source": [
    "#### The TOTAL SCORE we assign to our schedule is the average of the all interval scores, averaged over the first 12 intervals of all the days in the first half of our data"
   ]
  },
  {
   "cell_type": "code",
   "execution_count": 9,
   "metadata": {},
   "outputs": [
    {
     "name": "stdout",
     "output_type": "stream",
     "text": [
      "Total score : 7676.96\n"
     ]
    }
   ],
   "source": [
    "print(f\"Total score : {round(np.mean(res), 2)}\")"
   ]
  },
  {
   "cell_type": "markdown",
   "metadata": {},
   "source": [
    "### <span style='color:red'>Task 3</span>\n",
    "\n",
    "#### Code an algorithm that (approximately) does the following\n",
    "\n",
    "##### 1. It approximately enumerates all possible values for $\\pi$ between $0.3$ and $0.7$\n",
    "##### 2. It approximately computes the value of $\\pi$ that maximizes the TOTAL SCORE, when $N = 100000$, $T = 10$ and $\\alpha = 0.001$.\n",
    "##### 3. This means that we run the DP algorithm (under the chosen value of $\\pi$) and then evaluate as above to compute the TOTAL SCORE."
   ]
  },
  {
   "cell_type": "code",
   "execution_count": 13,
   "metadata": {},
   "outputs": [
    {
     "data": {
      "application/vnd.jupyter.widget-view+json": {
       "model_id": "0bda53cf9f374e1d91ea8ad6ac7e03d9",
       "version_major": 2,
       "version_minor": 0
      },
      "text/plain": [
       "  0%|          | 0/20 [00:00<?, ?it/s]"
      ]
     },
     "metadata": {},
     "output_type": "display_data"
    },
    {
     "name": "stdout",
     "output_type": "stream",
     "text": [
      "Score for 0.3 --> 9770.6\n",
      "Score for 0.321 --> 9720.41\n",
      "Score for 0.342 --> 9678.05\n",
      "Score for 0.363 --> 9609.23\n",
      "Score for 0.384 --> 9554.35\n",
      "Score for 0.405 --> 9486.2\n",
      "Score for 0.426 --> 9397.37\n",
      "Score for 0.447 --> 9299.58\n",
      "Score for 0.468 --> 9206.12\n",
      "Score for 0.489 --> 9095.37\n",
      "Score for 0.511 --> 8866.1\n",
      "Score for 0.532 --> 8578.18\n",
      "Score for 0.553 --> 8335.77\n",
      "Score for 0.574 --> 8021.77\n",
      "Score for 0.595 --> 7547.28\n",
      "Score for 0.616 --> 7087.29\n",
      "Score for 0.637 --> 6368.6\n",
      "Score for 0.658 --> 5616.54\n",
      "Score for 0.679 --> 4251.33\n",
      "Score for 0.7 --> 3382.07\n"
     ]
    }
   ],
   "source": [
    "pi_range = np.round(np.linspace(0.3, 0.7, 20), 3)\n",
    "tqdm_pi_range = tqdm(pi_range)\n",
    "alpha = 1e-3\n",
    "T = 10\n",
    "N = 100000\n",
    "res = {}\n",
    "for pi in tqdm_pi_range:\n",
    "\n",
    "    res = list()\n",
    "    schedule = approx_trade_schedule(alpha, T, N, pi, 3)\n",
    "    S = []\n",
    "    for t in range(10):\n",
    "        m = 0.1*m + 0.9*schedule[t]\n",
    "        S.append((1 - alpha * (m**pi)) * schedule[t])\n",
    "\n",
    "    print(f\"Score for {pi} --> {round( np.mean(S) , 2)}\")"
   ]
  }
 ],
 "metadata": {
  "kernelspec": {
   "display_name": "Python 3",
   "language": "python",
   "name": "python3"
  },
  "language_info": {
   "codemirror_mode": {
    "name": "ipython",
    "version": 3
   },
   "file_extension": ".py",
   "mimetype": "text/x-python",
   "name": "python",
   "nbconvert_exporter": "python",
   "pygments_lexer": "ipython3",
   "version": "3.11.4"
  }
 },
 "nbformat": 4,
 "nbformat_minor": 2
}
